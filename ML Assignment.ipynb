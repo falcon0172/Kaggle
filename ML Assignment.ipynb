{
 "cells": [
  {
   "cell_type": "markdown",
   "metadata": {},
   "source": [
    "**Import data**"
   ]
  },
  {
   "cell_type": "code",
   "execution_count": null,
   "metadata": {},
   "outputs": [],
   "source": [
    "import numpy as np\n",
    "import pandas as pd\n",
    "from sklearn.linear_model import LinearRegression\n",
    "from sklearn.ensemble import BaggingRegressor\n",
    "import matplotlib.pyplot as plt\n",
    "from sklearn.model_selection import train_test_split"
   ]
  },
  {
   "cell_type": "markdown",
   "metadata": {},
   "source": [
    "**Read data from csv file**"
   ]
  },
  {
   "cell_type": "code",
   "execution_count": null,
   "metadata": {},
   "outputs": [],
   "source": [
    "df = pd.read_csv('tcd ml 2019-20 income prediction training (with labels).csv')"
   ]
  },
  {
   "cell_type": "code",
   "execution_count": null,
   "metadata": {},
   "outputs": [],
   "source": [
    "sdf = pd.read_csv('tcd ml 2019-20 income prediction test (without labels).csv')"
   ]
  },
  {
   "cell_type": "markdown",
   "metadata": {},
   "source": [
    "**Visualize columns and remove some columns**"
   ]
  },
  {
   "cell_type": "code",
   "execution_count": null,
   "metadata": {},
   "outputs": [],
   "source": [
    "data_for_plot = df.dropna()\n",
    "#plt.scatter(data_for_plot[\"Hair Color\"], data_for_plot[\"Income in EUR\"])\n",
    "#plt.scatter(data_for_plot[\"Body Height [cm]\"], data_for_plot[\"Income in EUR\"])\n",
    "plt.scatter(data_for_plot[\"Wears Glasses\"], data_for_plot[\"Income in EUR\"])"
   ]
  },
  {
   "cell_type": "markdown",
   "metadata": {},
   "source": [
    "**Cleaning Data**\n",
    "\n",
    "Check distsinct values in various columsn\n",
    "\n",
    "Replace nan or empty by mean value for numerical and mode for categorical"
   ]
  },
  {
   "cell_type": "code",
   "execution_count": null,
   "metadata": {},
   "outputs": [],
   "source": [
    "df = df.fillna(df.mean())"
   ]
  },
  {
   "cell_type": "code",
   "execution_count": null,
   "metadata": {},
   "outputs": [],
   "source": [
    "sdf = sdf.fillna(sdf.mean())"
   ]
  },
  {
   "cell_type": "code",
   "execution_count": null,
   "metadata": {
    "scrolled": true
   },
   "outputs": [],
   "source": [
    "df.Gender.fillna(df.Gender.mode()[0], inplace=True)\n",
    "sdf.Gender.fillna(sdf.Gender.mode()[0], inplace=True)"
   ]
  },
  {
   "cell_type": "code",
   "execution_count": null,
   "metadata": {},
   "outputs": [],
   "source": [
    "df[\"University Degree\"].fillna(df[\"University Degree\"].mode()[0], inplace=True)\n",
    "sdf[\"University Degree\"].fillna(sdf[\"University Degree\"].mode()[0], inplace=True)"
   ]
  },
  {
   "cell_type": "code",
   "execution_count": null,
   "metadata": {},
   "outputs": [],
   "source": [
    "df.Profession.fillna(df.Profession.mode()[0], inplace=True)\n",
    "sdf.Profession.fillna(sdf.Profession.mode()[0], inplace=True)"
   ]
  },
  {
   "cell_type": "markdown",
   "metadata": {},
   "source": [
    "**One hot Encoding for categorical features**"
   ]
  },
  {
   "cell_type": "code",
   "execution_count": null,
   "metadata": {},
   "outputs": [],
   "source": [
    "df = pd.concat((df,pd.get_dummies(df.Profession)),1)\n",
    "sdf = pd.concat((sdf,pd.get_dummies(sdf.Profession)),1)\n",
    "df = pd.concat((df,pd.get_dummies(df.Gender)),1)\n",
    "sdf = pd.concat((sdf,pd.get_dummies(sdf.Gender)),1)\n",
    "df = pd.concat((df,pd.get_dummies(df.Country)),1)\n",
    "sdf = pd.concat((sdf,pd.get_dummies(sdf.Country)),1)\n",
    "df = pd.concat((df,pd.get_dummies(df['University Degree'])),1)\n",
    "sdf = pd.concat((sdf,pd.get_dummies(sdf['University Degree'])),1)\n",
    "df = pd.concat((df,pd.get_dummies(df['Hair Color'])),1)\n",
    "sdf = pd.concat((sdf,pd.get_dummies(sdf['Hair Color'])),1)"
   ]
  },
  {
   "cell_type": "code",
   "execution_count": null,
   "metadata": {},
   "outputs": [],
   "source": [
    "del df.Profession\n",
    "del sdf.Profession\n",
    "del df.Gender\n",
    "del sdf.Gender\n",
    "del df.Country\n",
    "del sdf.Country\n",
    "del df['University Degree']\n",
    "del sdf['University Degree']\n",
    "del sdf['Hair Color']\n",
    "del df['Hair Color']"
   ]
  },
  {
   "cell_type": "code",
   "execution_count": null,
   "metadata": {},
   "outputs": [],
   "source": [
    "del_val = list(set(list(df.columns) ) - set(list(sdf.columns) ) - set(['Income in EUR']))\n",
    "del_val = np.asarray(del_val)\n",
    "df.drop(del_val, axis=1, inplace=True)"
   ]
  },
  {
   "cell_type": "code",
   "execution_count": null,
   "metadata": {},
   "outputs": [],
   "source": [
    "del_val = list(set(list(sdf.columns) ) - set(list(df.columns) ) - set(['Income']))\n",
    "del_val = np.asarray(del_val)\n",
    "sdf.drop(del_val, axis=1, inplace=True)"
   ]
  },
  {
   "cell_type": "markdown",
   "metadata": {},
   "source": [
    "**Split Training and Test data and use Linear regression**\n",
    "(Also try with BaggingRegressor)"
   ]
  },
  {
   "cell_type": "code",
   "execution_count": null,
   "metadata": {},
   "outputs": [],
   "source": [
    "\n",
    "X = df.loc[:, df.columns != 'Income in EUR'].values\n",
    "y = df[\"Income in EUR\"].values\n",
    "\n",
    "X_train, X_test, y_train, y_test = train_test_split(X, y, test_size=0.2)\n",
    "\n",
    "clf = LinearRegression().fit(X_train, y_train)\n",
    "clf.fit(X_train, y_train)\n",
    "\n",
    "print(clf.score(X_test, y_test))"
   ]
  },
  {
   "cell_type": "markdown",
   "metadata": {},
   "source": [
    "**Write results to file**"
   ]
  },
  {
   "cell_type": "code",
   "execution_count": null,
   "metadata": {},
   "outputs": [],
   "source": [
    "test_X = sdf.loc[:, sdf.columns != 'Income'].values\n",
    "prediction_value = clf.predict(test_X)"
   ]
  },
  {
   "cell_type": "code",
   "execution_count": null,
   "metadata": {},
   "outputs": [],
   "source": [
    "sdf['Income'] = prediction_value\n",
    "sdf[['Income']].to_csv(\"tcd ml 2019-20 income prediction submission file3.csv\", index = None)"
   ]
  },
  {
   "cell_type": "code",
   "execution_count": null,
   "metadata": {},
   "outputs": [],
   "source": []
  }
 ],
 "metadata": {
  "kernelspec": {
   "display_name": "Python 3",
   "language": "python",
   "name": "python3"
  },
  "language_info": {
   "codemirror_mode": {
    "name": "ipython",
    "version": 3
   },
   "file_extension": ".py",
   "mimetype": "text/x-python",
   "name": "python",
   "nbconvert_exporter": "python",
   "pygments_lexer": "ipython3",
   "version": "3.7.3"
  }
 },
 "nbformat": 4,
 "nbformat_minor": 4
}
